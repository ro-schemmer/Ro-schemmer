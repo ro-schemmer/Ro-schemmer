{
  "nbformat": 4,
  "nbformat_minor": 0,
  "metadata": {
    "colab": {
      "provenance": [],
      "authorship_tag": "ABX9TyPjl7PcwIFcdbGvN1cwjacg",
      "include_colab_link": true
    },
    "kernelspec": {
      "name": "python3",
      "display_name": "Python 3"
    },
    "language_info": {
      "name": "python"
    }
  },
  "cells": [
    {
      "cell_type": "markdown",
      "metadata": {
        "id": "view-in-github",
        "colab_type": "text"
      },
      "source": [
        "<a href=\"https://colab.research.google.com/github/ro-schemmer/Ro-schemmer/blob/main/Algebra_Matriz.ipynb\" target=\"_parent\"><img src=\"https://colab.research.google.com/assets/colab-badge.svg\" alt=\"Open In Colab\"/></a>"
      ]
    },
    {
      "cell_type": "markdown",
      "source": [
        "\n",
        "** Exercício de Classificação de Matrizes**\n",
        "\n",
        "Desenvolvemos um programa em Python que permite ao usuário inserir uma matriz e, com base em suas propriedades, classificá-la automaticamente. O programa verifica 16 tipos de classificações diferentes, analisando características como formato, estrutura e propriedades matemáticas da matriz.\n",
        "\n",
        "Abaixo está o código que realiza essa classificação de forma eficiente.\n",
        "\n",
        "\n"
      ],
      "metadata": {
        "id": "QRVStEzhj1gs"
      }
    },
    {
      "cell_type": "markdown",
      "source": [
        "** Como usar o programa?**\n",
        "\n",
        "Execute o código em Python.\n",
        "\n",
        "*   Digite as dimensões da matriz.\n",
        "*  Insira os elementos linha por linha, separados por espaços.\n",
        "*   O programa exibirá a matriz e suas classificaçõe\n",
        "\n",
        "\n",
        "\n",
        "\n"
      ],
      "metadata": {
        "id": "GjSUAM2Pl95V"
      }
    },
    {
      "cell_type": "markdown",
      "source": [
        "** Conclusão**\n",
        "\n",
        "*   O programa classifica corretamente qualquer matriz inserida.\n",
        "*   Pode ser facilmente expandido para outras classificações.\n",
        "*   Usa a biblioteca numpy para facilitar os cálculos.\n"
      ],
      "metadata": {
        "id": "H5MX4kRjmtuZ"
      }
    },
    {
      "cell_type": "code",
      "execution_count": null,
      "metadata": {
        "id": "wkmWZw7HiC1v"
      },
      "outputs": [],
      "source": [
        "import numpy as np\n",
        "\n",
        "def verificar_classificacao(matriz):\n",
        "    linhas, colunas = matriz.shape\n",
        "    classificacoes = []\n",
        "\n",
        "    # 1. Matriz quadrada\n",
        "    if linhas == colunas:\n",
        "        classificacoes.append(\"Matriz quadrada\")\n",
        "    else:\n",
        "        classificacoes.append(\"Matriz retangular\")\n",
        "\n",
        "    # 2. Matriz nula (zero)\n",
        "    if np.all(matriz == 0):\n",
        "        classificacoes.append(\"Matriz nula ou matriz zero\")\n",
        "\n",
        "    # 3. Matriz coluna (uma única coluna)\n",
        "    if colunas == 1:\n",
        "        classificacoes.append(\"Matriz coluna\")\n",
        "\n",
        "    # 4. Matriz linha (uma única linha)\n",
        "    if linhas == 1:\n",
        "        classificacoes.append(\"Matriz linha\")\n",
        "\n",
        "    # 5. Matriz diagonal (todos os elementos fora da diagonal são zero)\n",
        "    if linhas == colunas and np.all(matriz - np.diag(np.diagonal(matriz)) == 0):\n",
        "        classificacoes.append(\"Matriz diagonal\")\n",
        "\n",
        "        # 6. Matriz escalar (diagonal e todos os elementos da diagonal são iguais)\n",
        "        if np.all(np.diagonal(matriz) == matriz[0, 0]):\n",
        "            classificacoes.append(\"Matriz escalar\")\n",
        "\n",
        "            # 7. Matriz identidade (diagonal e todos os elementos da diagonal são 1)\n",
        "            if matriz[0, 0] == 1:\n",
        "                classificacoes.append(\"Matriz de identidade ou unidade\")\n",
        "\n",
        "    # 8. Matriz triangular superior (todos os elementos abaixo da diagonal são zero)\n",
        "    if linhas == colunas and np.all(np.tril(matriz, -1) == 0):\n",
        "        classificacoes.append(\"Matriz triangular superior\")\n",
        "\n",
        "    # 9. Matriz triangular inferior (todos os elementos acima da diagonal são zero)\n",
        "    if linhas == colunas and np.all(np.triu(matriz, 1) == 0):\n",
        "        classificacoes.append(\"Matriz triangular inferior\")\n",
        "\n",
        "    # 10. Matriz simétrica (matriz igual à sua transposta)\n",
        "    if linhas == colunas and np.all(matriz == matriz.T):\n",
        "        classificacoes.append(\"Matriz simétrica\")\n",
        "\n",
        "    # 11. Matriz antissimétrica (matriz igual ao negativo da sua transposta)\n",
        "    if linhas == colunas and np.all(matriz == -matriz.T):\n",
        "        classificacoes.append(\"Matriz antissimétrica\")\n",
        "\n",
        "    # 12. Matriz normal (matriz comutativa com sua transposta conjugada: A * A.T = A.T * A)\n",
        "    if linhas == colunas and np.all(matriz @ matriz.T == matriz.T @ matriz):\n",
        "        classificacoes.append(\"Matriz normal\")\n",
        "\n",
        "    return classificacoes\n",
        "\n",
        "# Solicita os dados da matriz ao usuário\n",
        "def obter_matriz():\n",
        "    linhas = int(input(\"Digite o número de linhas da matriz: \"))\n",
        "    colunas = int(input(\"Digite o número de colunas da matriz: \"))\n",
        "\n",
        "    print(\"Digite os elementos da matriz linha por linha:\")\n",
        "    matriz = []\n",
        "    for i in range(linhas):\n",
        "        linha = list(map(float, input().split()))\n",
        "        matriz.append(linha)\n",
        "\n",
        "    matriz = np.array(matriz)\n",
        "    return matriz\n",
        "\n",
        "# Executa o programa\n",
        "matriz = obter_matriz()\n",
        "classificacoes = verificar_classificacao(matriz)\n",
        "\n",
        "# Exibe a matriz e suas classificações\n",
        "print(\"\\nMatriz inserida:\")\n",
        "print(matriz)\n",
        "print(\"\\nClassificações:\")\n",
        "for c in classificacoes:\n",
        "    print(f\"- {c}\")\n"
      ]
    },
    {
      "cell_type": "markdown",
      "source": [],
      "metadata": {
        "id": "EHzHalIwj0Tj"
      }
    }
  ]
}